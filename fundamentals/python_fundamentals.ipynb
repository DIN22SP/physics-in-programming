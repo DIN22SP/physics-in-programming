{
 "cells": [
  {
   "cell_type": "code",
   "execution_count": null,
   "metadata": {},
   "outputs": [],
   "source": [
    "#Let's start python programming!\n",
    "\n",
    "#The hastag # at the beginning of the line makes the line comment.\n",
    "#Comment lines don't affect the actual program at all. "
   ]
  },
  {
   "cell_type": "markdown",
   "metadata": {},
   "source": [
    "We can also add markdown cells which behave like comment lines"
   ]
  },
  {
   "cell_type": "code",
   "execution_count": null,
   "metadata": {},
   "outputs": [],
   "source": [
    "#Print\n",
    "\n",
    "print('Hello DPD23SY students!') #Prints the text\n",
    "\n",
    "print(3) #Prints the number\n",
    "\n",
    "print(5+6) # Prints the number\n",
    "\n",
    "print('5 + 6') #Prints the text string \n",
    "\n",
    "'The variable alone in the last row of the cell is printed'"
   ]
  },
  {
   "cell_type": "code",
   "execution_count": null,
   "metadata": {},
   "outputs": [],
   "source": [
    "#Define the variables\n",
    "a = 'cat'\n",
    "b = 'dog'\n",
    "c = 312\n",
    "d = 42.23\n",
    "e = 987359283421212127920378450293852227.2\n",
    "\n",
    "print(type(a).__name__)\n",
    "print(type(b).__name__)\n",
    "print(type(c).__name__)\n",
    "print(type(d).__name__)\n",
    "print(type(e).__name__)\n",
    "#Python automatically defines the (optimal) data type according to optimal input\n",
    "#In case of text string there are no alternative options"
   ]
  },
  {
   "cell_type": "code",
   "execution_count": null,
   "metadata": {},
   "outputs": [],
   "source": [
    "#Data types\n",
    "x = str('Hello')\n",
    "print(type(x).__name__)\n",
    "x = 'Hello'\n",
    "print(type(x).__name__)\n",
    "#Data type is the same in two cases above. "
   ]
  },
  {
   "cell_type": "code",
   "execution_count": null,
   "metadata": {},
   "outputs": [],
   "source": [
    "#Numeric types\n",
    "a = 20\n",
    "b = int(20)\n",
    "c = float(20)\n",
    "d = complex(20)\n",
    "\n",
    "print('The values are')\n",
    "print(a)\n",
    "print(b)\n",
    "print(c)\n",
    "print(d)\n",
    "#The number does not change in this case but float has decimals and complex imaginary part\n",
    "print('The types are')\n",
    "print(type(a).__name__)\n",
    "print(type(b).__name__)\n",
    "print(type(c).__name__)\n",
    "print(type(d).__name__)"
   ]
  },
  {
   "cell_type": "code",
   "execution_count": null,
   "metadata": {},
   "outputs": [],
   "source": [
    "#Casting to int\n",
    "print('Casting to int')\n",
    "a = int(5) #Int to int, keeps the full accuracy\n",
    "b = int(6.6) #Float to in, loses decimals\n",
    "c = int('7') #String to int, works if string characters form a number\n",
    "print(a)\n",
    "print(b)\n",
    "print(c)"
   ]
  },
  {
   "cell_type": "code",
   "execution_count": null,
   "metadata": {},
   "outputs": [],
   "source": [
    "#Casting to float\n",
    "print('Casting to float')\n",
    "a = float(5) #Int to float, keeps the full accuracy\n",
    "b = float(6.6) #Float to float\n",
    "c = float('7') #String to float, works if string characters form a number, ads decimal separator and decimals\n",
    "print(a)\n",
    "print(b)\n",
    "print(c)"
   ]
  },
  {
   "cell_type": "code",
   "execution_count": null,
   "metadata": {},
   "outputs": [],
   "source": [
    "\n",
    "#Casting to string\n",
    "print('Casting to string')\n",
    "a = str(5) #Int to str, keeps the full accuracy\n",
    "b = str(6.6) #Float to str, keeps the full accuracy\n",
    "c = str('7') #String to str\n",
    "print(a)\n",
    "print(b)\n",
    "print(c)"
   ]
  },
  {
   "cell_type": "code",
   "execution_count": null,
   "metadata": {},
   "outputs": [],
   "source": [
    "#Strings\n",
    "\n",
    "a = 'Hello OAMK!'\n",
    "print(a)\n",
    "\n",
    "a = 'Hello ' + 'OAMK!'\n",
    "print(a)\n",
    "\n",
    "a = 'Hello ' + 'OAMK! ' + 'Year ' + str(2024) + ' will be great!'\n",
    "print(a)\n",
    "\n",
    "print(len(a)) #Lenght of a string\n",
    "print(a[0:5]) #Prints out the selected range of characters"
   ]
  },
  {
   "cell_type": "code",
   "execution_count": null,
   "metadata": {},
   "outputs": [],
   "source": [
    "#Booleans \n",
    "a = True\n",
    "print(a)\n",
    "print(type(a).__name__)"
   ]
  },
  {
   "cell_type": "code",
   "execution_count": null,
   "metadata": {},
   "outputs": [],
   "source": [
    "#Booleans \n",
    "x = 3\n",
    "b= (x > 4)\n",
    "print(b)\n",
    "print(type(b).__name__)\n",
    "\n",
    "if b: #If b is True\n",
    "    print('x is greater than 4')\n",
    "else: #b is False\n",
    "    print('x is smaller than 4')\n",
    "\n",
    "c = a + b\n",
    "print(c)\n",
    "print(type(c).__name__)"
   ]
  },
  {
   "cell_type": "code",
   "execution_count": null,
   "metadata": {},
   "outputs": [],
   "source": [
    "#operators\n",
    "x = 3\n",
    "y = 4\n",
    "print(x + y)    #Addition\n",
    "print(x - y)    #Subtraction\n",
    "print(x*y)      #Multiplication\t\n",
    "print(x/y)      #Division\t\t\t\t\n",
    "print(x**y)     #Exponentiation\t\n",
    "print(x % y)    #Modulus\n",
    "print(x//y)     #Floor division\t"
   ]
  },
  {
   "cell_type": "code",
   "execution_count": null,
   "metadata": {},
   "outputs": [],
   "source": [
    "#Lists\n",
    "#List of string, integers, floats, booleans or combination of them\n",
    "\n",
    "l1 = [\"cat\", \"dog\", \"cow\"]\n",
    "l2 = [1,2,3]\n",
    "l3 = [2.12, 2.45, 2.12]\n",
    "l4 = [True, False, True]\n",
    "l5 = ['cat', 3, 5.23, True]\n",
    "\n",
    "#List is mutable\n",
    "l1[0] = 'bird'\n",
    "print(l1)\n",
    "\n",
    "#List is mutable\n",
    "l5[0] = 4\n",
    "print(l5)\n",
    "print(type(l5[0]).__name__)\n",
    "\n",
    "#Lenght of the list is the number of elements \n",
    "print(len(l5))"
   ]
  }
 ],
 "metadata": {
  "kernelspec": {
   "display_name": "Python 3",
   "language": "python",
   "name": "python3"
  },
  "language_info": {
   "codemirror_mode": {
    "name": "ipython",
    "version": 3
   },
   "file_extension": ".py",
   "mimetype": "text/x-python",
   "name": "python",
   "nbconvert_exporter": "python",
   "pygments_lexer": "ipython3",
   "version": "3.10.6"
  },
  "orig_nbformat": 4
 },
 "nbformat": 4,
 "nbformat_minor": 2
}
