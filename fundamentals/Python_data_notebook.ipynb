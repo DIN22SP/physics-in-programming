{
 "cells": [
  {
   "cell_type": "code",
   "execution_count": null,
   "metadata": {},
   "outputs": [],
   "source": [
    "#Common libraries\n",
    "#Install first from comman line, pip install numpy etc.\n",
    "#Or install from the notebook, %pip install numpy etc.\n",
    "#%pip install numpy\n",
    "#%pip install pandas\n",
    "#%pip install matplotlib\n",
    "import numpy as np #Numerical calculations\n",
    "import pandas as pd #Data manipulations\n",
    "import matplotlib.pyplot as plt #Graphics"
   ]
  },
  {
   "cell_type": "code",
   "execution_count": null,
   "metadata": {},
   "outputs": [],
   "source": [
    "#Read the data\n",
    "df = pd.read_csv('RawData.csv')\n",
    "df.head()\n",
    "df.info()"
   ]
  },
  {
   "cell_type": "code",
   "execution_count": null,
   "metadata": {},
   "outputs": [],
   "source": [
    "#To access only single column:\n",
    "#df['Time (s)']\n",
    "\n",
    "#Let's make a simply graphics\n",
    "plt.figure(figsize = (15,15))\n",
    "\n",
    "plt.subplot(3,1,1)\n",
    "plt.plot(df['Time (s)'],df['Linear Acceleration x (m/s^2)'])\n",
    "plt.grid()\n",
    "plt.title('Acceleration x')\n",
    "plt.xlabel('Time')\n",
    "plt.ylabel('a_x')\n",
    "plt.axis([0,10,-30,30])\n",
    "\n",
    "plt.subplot(3,1,2)\n",
    "plt.plot(df['Time (s)'],df['Linear Acceleration y (m/s^2)'])\n",
    "plt.grid()\n",
    "plt.title('Acceleration y')\n",
    "plt.xlabel('Time')\n",
    "plt.ylabel('a_y')\n",
    "plt.axis([0,10,-30,30])\n",
    "\n",
    "plt.subplot(3,1,3)\n",
    "plt.plot(df['Time (s)'],df['Linear Acceleration z (m/s^2)'])\n",
    "plt.grid()\n",
    "plt.title('Acceleration z')\n",
    "plt.xlabel('Time')\n",
    "plt.ylabel('a_z')\n",
    "plt.axis([0,10,-30,30])\n",
    "plt.show()"
   ]
  }
 ],
 "metadata": {
  "kernelspec": {
   "display_name": "Python 3",
   "language": "python",
   "name": "python3"
  },
  "language_info": {
   "codemirror_mode": {
    "name": "ipython",
    "version": 3
   },
   "file_extension": ".py",
   "mimetype": "text/x-python",
   "name": "python",
   "nbconvert_exporter": "python",
   "pygments_lexer": "ipython3",
   "version": "3.10.6"
  }
 },
 "nbformat": 4,
 "nbformat_minor": 2
}
