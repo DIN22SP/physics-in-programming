{
  "cells": [
    {
      "cell_type": "code",
      "execution_count": null,
      "metadata": {
        "id": "t8Y_Ztt6OhAN"
      },
      "outputs": [],
      "source": [
        "#Import libraries\n",
        "import pandas as pd\n",
        "import numpy as np\n",
        "from math import radians, cos, sin, asin, sqrt\n"
      ]
    },
    {
      "cell_type": "code",
      "execution_count": null,
      "metadata": {},
      "outputs": [],
      "source": [
        "#Define Haversine formula\n",
        "#Inputs are the coordinates of two points, lon1, lat1, lon2, lat2\n",
        "#Returns the distance between them\n",
        "\n",
        "def haversine(lon1, lat1, lon2, lat2):\n",
        "    \"\"\"\n",
        "    Calculate the great circle distance in kilometers between two points  on the earth (specified in decimal degrees)\n",
        "    \"\"\"\n",
        "    # convert decimal degrees to radians \n",
        "    lon1, lat1, lon2, lat2 = map(radians, [lon1, lat1, lon2, lat2])\n",
        "\n",
        "    # haversine formula \n",
        "    dlon = lon2 - lon1 \n",
        "    dlat = lat2 - lat1 \n",
        "    a = sin(dlat/2)**2 + cos(lat1) * cos(lat2) * sin(dlon/2)**2\n",
        "    c = 2 * asin(sqrt(a)) \n",
        "    r = 6371 # Radius of earth in kilometers.\n",
        "    return c * r "
      ]
    },
    {
      "cell_type": "code",
      "execution_count": null,
      "metadata": {},
      "outputs": [],
      "source": [
        "#Read data\n",
        "#This is a Phyphox GPS measurement. Walking short distance outside. \n",
        "\n",
        "data = pd.read_csv('gps_08092023.csv')\n",
        "data.head()\n"
      ]
    },
    {
      "cell_type": "code",
      "execution_count": null,
      "metadata": {},
      "outputs": [],
      "source": [
        "#Derive velocity using haversine (although it is already in the data in most cases)\n",
        "\n",
        "lat = data['Latitude (°)'] #Latitude\n",
        "lon = data['Longitude (°)'] #Longitude\n",
        "\n",
        "data['dist'] = np.zeros(lat.shape[0]) #Add new column (of zeros) to the data. We'll calculate the distance between consecutive points there\n",
        "data['time_diff']  = np.zeros(lat.shape[0]) #Add new column (of zeros) to the data. We'll calculate the time between consecutive points there\n",
        "\n",
        "for i in range(lat.shape[0]-1): #For-loop goes throught the data untill the second last row\n",
        "  data['dist'][i] = haversine(lon[i], lat[i],lon[i+1], lat[i+1])*1000 #The distance between data points with indices i ja i + 1 (in meters)\n",
        "  data['time_diff'][i] = data['Time (s)'][i+1] - data['Time (s)'][i]  #The time step between data points with indices i ja i + 1 (in seconds)\n",
        "\n",
        "data['dist'][0] = 0\n",
        "data['velocity'] = data['dist']/data['time_diff']\n",
        "\n",
        "data.head()"
      ]
    },
    {
      "cell_type": "code",
      "execution_count": 19,
      "metadata": {},
      "outputs": [
        {
          "data": {
            "text/html": [
              "<div style=\"width:100%;\"><div style=\"position:relative;width:100%;height:0;padding-bottom:60%;\"><span style=\"color:#565656\">Make this Notebook Trusted to load map: File -> Trust Notebook</span><iframe srcdoc=\"&lt;!DOCTYPE html&gt;\n",
              "&lt;html&gt;\n",
              "&lt;head&gt;\n",
              "    \n",
              "    &lt;meta http-equiv=&quot;content-type&quot; content=&quot;text/html; charset=UTF-8&quot; /&gt;\n",
              "    \n",
              "        &lt;script&gt;\n",
              "            L_NO_TOUCH = false;\n",
              "            L_DISABLE_3D = false;\n",
              "        &lt;/script&gt;\n",
              "    \n",
              "    &lt;style&gt;html, body {width: 100%;height: 100%;margin: 0;padding: 0;}&lt;/style&gt;\n",
              "    &lt;style&gt;#map {position:absolute;top:0;bottom:0;right:0;left:0;}&lt;/style&gt;\n",
              "    &lt;script src=&quot;https://cdn.jsdelivr.net/npm/leaflet@1.9.3/dist/leaflet.js&quot;&gt;&lt;/script&gt;\n",
              "    &lt;script src=&quot;https://code.jquery.com/jquery-3.7.1.min.js&quot;&gt;&lt;/script&gt;\n",
              "    &lt;script src=&quot;https://cdn.jsdelivr.net/npm/bootstrap@5.2.2/dist/js/bootstrap.bundle.min.js&quot;&gt;&lt;/script&gt;\n",
              "    &lt;script src=&quot;https://cdnjs.cloudflare.com/ajax/libs/Leaflet.awesome-markers/2.0.2/leaflet.awesome-markers.js&quot;&gt;&lt;/script&gt;\n",
              "    &lt;link rel=&quot;stylesheet&quot; href=&quot;https://cdn.jsdelivr.net/npm/leaflet@1.9.3/dist/leaflet.css&quot;/&gt;\n",
              "    &lt;link rel=&quot;stylesheet&quot; href=&quot;https://cdn.jsdelivr.net/npm/bootstrap@5.2.2/dist/css/bootstrap.min.css&quot;/&gt;\n",
              "    &lt;link rel=&quot;stylesheet&quot; href=&quot;https://netdna.bootstrapcdn.com/bootstrap/3.0.0/css/bootstrap.min.css&quot;/&gt;\n",
              "    &lt;link rel=&quot;stylesheet&quot; href=&quot;https://cdn.jsdelivr.net/npm/@fortawesome/fontawesome-free@6.2.0/css/all.min.css&quot;/&gt;\n",
              "    &lt;link rel=&quot;stylesheet&quot; href=&quot;https://cdnjs.cloudflare.com/ajax/libs/Leaflet.awesome-markers/2.0.2/leaflet.awesome-markers.css&quot;/&gt;\n",
              "    &lt;link rel=&quot;stylesheet&quot; href=&quot;https://cdn.jsdelivr.net/gh/python-visualization/folium/folium/templates/leaflet.awesome.rotate.min.css&quot;/&gt;\n",
              "    \n",
              "            &lt;meta name=&quot;viewport&quot; content=&quot;width=device-width,\n",
              "                initial-scale=1.0, maximum-scale=1.0, user-scalable=no&quot; /&gt;\n",
              "            &lt;style&gt;\n",
              "                #map_d9284e426f63417593a687b9a0750e72 {\n",
              "                    position: relative;\n",
              "                    width: 100.0%;\n",
              "                    height: 100.0%;\n",
              "                    left: 0.0%;\n",
              "                    top: 0.0%;\n",
              "                }\n",
              "                .leaflet-container { font-size: 1rem; }\n",
              "            &lt;/style&gt;\n",
              "        \n",
              "&lt;/head&gt;\n",
              "&lt;body&gt;\n",
              "    \n",
              "    \n",
              "            &lt;div class=&quot;folium-map&quot; id=&quot;map_d9284e426f63417593a687b9a0750e72&quot; &gt;&lt;/div&gt;\n",
              "        \n",
              "&lt;/body&gt;\n",
              "&lt;script&gt;\n",
              "    \n",
              "    \n",
              "            var map_d9284e426f63417593a687b9a0750e72 = L.map(\n",
              "                &quot;map_d9284e426f63417593a687b9a0750e72&quot;,\n",
              "                {\n",
              "                    center: [65.07274702313434, 25.512074861791046],\n",
              "                    crs: L.CRS.EPSG3857,\n",
              "                    zoom: 16,\n",
              "                    zoomControl: true,\n",
              "                    preferCanvas: false,\n",
              "                }\n",
              "            );\n",
              "\n",
              "            \n",
              "\n",
              "        \n",
              "    \n",
              "            var tile_layer_998e897f8a4f0bca5d8d719f79d2dad2 = L.tileLayer(\n",
              "                &quot;https://tile.openstreetmap.org/{z}/{x}/{y}.png&quot;,\n",
              "                {&quot;attribution&quot;: &quot;\\u0026copy; \\u003ca href=\\&quot;https://www.openstreetmap.org/copyright\\&quot;\\u003eOpenStreetMap\\u003c/a\\u003e contributors&quot;, &quot;detectRetina&quot;: false, &quot;maxNativeZoom&quot;: 19, &quot;maxZoom&quot;: 19, &quot;minZoom&quot;: 0, &quot;noWrap&quot;: false, &quot;opacity&quot;: 1, &quot;subdomains&quot;: &quot;abc&quot;, &quot;tms&quot;: false}\n",
              "            );\n",
              "        \n",
              "    \n",
              "            tile_layer_998e897f8a4f0bca5d8d719f79d2dad2.addTo(map_d9284e426f63417593a687b9a0750e72);\n",
              "        \n",
              "    \n",
              "            var poly_line_e31981e0891b7836d72d769b2848d553 = L.polyline(\n",
              "                [[65.0711947, 25.5151311], [65.07263231, 25.51639353], [65.07263582, 25.51642691], [65.07265104, 25.51643969], [65.0726419, 25.51643022], [65.07263194, 25.51641715], [65.07262686, 25.51641054], [65.07262275, 25.51641946], [65.07261603, 25.51641857], [65.07260644, 25.5164227], [65.0726015, 25.5164364], [65.07259328, 25.51644279], [65.07258914, 25.51641645], [65.07256984, 25.51641045], [65.07253799, 25.51640155], [65.07251312, 25.51638346], [65.07249254, 25.51636574], [65.07246982, 25.51635071], [65.07243288, 25.51633211], [65.07239656, 25.51631404], [65.07236057, 25.5162926], [65.07232608, 25.51627423], [65.07229164, 25.51626138], [65.07225248, 25.51623957], [65.07221412, 25.51623541], [65.07217823, 25.51622299], [65.07214101, 25.51621453], [65.07210451, 25.51619893], [65.0720765, 25.5161398], [65.07205128, 25.51607762], [65.07203981, 25.51599549], [65.07202102, 25.51588625], [65.0719935, 25.51581205], [65.07196928, 25.51574797], [65.07194552, 25.51569442], [65.07193091, 25.51564894], [65.07190427, 25.51558636], [65.07187702, 25.51552543], [65.07186138, 25.51545228], [65.0718472, 25.51538415], [65.07185774, 25.51531558], [65.071883, 25.51523875], [65.07191203, 25.51516614], [65.07194026, 25.51507992], [65.071969, 25.51500393], [65.07199421, 25.51492445], [65.07202051, 25.5148457], [65.0720499, 25.51476773], [65.0720779, 25.51468786], [65.0721055, 25.51460282], [65.0721394, 25.5145088], [65.07216292, 25.51441397], [65.07218572, 25.51431916], [65.07221388, 25.51423839], [65.07224582, 25.51415027], [65.07227772, 25.51405574], [65.07231077, 25.5139548], [65.0723427, 25.51385291], [65.07237615, 25.51375139], [65.07240684, 25.5136477], [65.07243783, 25.51354265], [65.07246764, 25.51343455], [65.0724953, 25.51332552], [65.0725228, 25.51321602], [65.07254249, 25.51309441], [65.07255736, 25.51297565], [65.07257376, 25.5128476], [65.07259143, 25.51271683], [65.07260954, 25.51258903], [65.07262671, 25.5124588], [65.07264325, 25.51232362], [65.07265868, 25.51219315], [65.07267498, 25.5120673], [65.07269142, 25.51194229], [65.07270525, 25.51182068], [65.07272041, 25.51170223], [65.07273442, 25.51158596], [65.07274941, 25.51147344], [65.07276261, 25.51136218], [65.0727778, 25.51125107], [65.07279169, 25.51114051], [65.07280707, 25.51103202], [65.07282159, 25.51091911], [65.07283669, 25.5108002], [65.07285107, 25.51068072], [65.07286483, 25.51055851], [65.07287959, 25.51043519], [65.07289764, 25.51031074], [65.07291349, 25.51018496], [65.07293199, 25.51005695], [65.07294774, 25.50992739], [65.07296391, 25.50979428], [65.07297997, 25.50965916], [65.07299475, 25.50952631], [65.07300943, 25.50938804], [65.07302994, 25.50924953], [65.0730485, 25.50912447], [65.07306502, 25.50900505], [65.07308434, 25.50886948], [65.07310346, 25.50873751], [65.07312146, 25.50859539], [65.07314348, 25.50847029], [65.07317179, 25.50836338], [65.07320506, 25.50827312], [65.07323452, 25.50819192], [65.07327565, 25.50811498], [65.07331369, 25.5080175], [65.07334334, 25.50791417], [65.0733793, 25.50781046], [65.07340899, 25.50769842], [65.07344338, 25.50757779], [65.0734767, 25.50745736], [65.07351042, 25.50733793], [65.07354208, 25.50722031], [65.07357299, 25.50709262], [65.07360594, 25.50696643], [65.07363558, 25.50685096], [65.07366368, 25.5067414], [65.07369106, 25.50662354], [65.07371771, 25.5065207], [65.0737444, 25.5064307], [65.07377426, 25.50631987], [65.07379894, 25.50622231], [65.07382672, 25.50612509], [65.07385178, 25.50603171], [65.0738756, 25.50594152], [65.07389618, 25.5058635], [65.07391424, 25.50579403], [65.07392967, 25.50572967], [65.07394265, 25.50567996], [65.07395232, 25.50563784], [65.07395232, 25.50563784], [65.07395232, 25.50563784], [65.07395232, 25.50563784]],\n",
              "                {&quot;bubblingMouseEvents&quot;: true, &quot;color&quot;: &quot;blue&quot;, &quot;dashArray&quot;: null, &quot;dashOffset&quot;: null, &quot;fill&quot;: false, &quot;fillColor&quot;: &quot;blue&quot;, &quot;fillOpacity&quot;: 0.2, &quot;fillRule&quot;: &quot;evenodd&quot;, &quot;lineCap&quot;: &quot;round&quot;, &quot;lineJoin&quot;: &quot;round&quot;, &quot;noClip&quot;: false, &quot;opacity&quot;: 1, &quot;smoothFactor&quot;: 1.0, &quot;stroke&quot;: true, &quot;weight&quot;: 2.5}\n",
              "            ).addTo(map_d9284e426f63417593a687b9a0750e72);\n",
              "        \n",
              "    \n",
              "            tile_layer_998e897f8a4f0bca5d8d719f79d2dad2.addTo(map_d9284e426f63417593a687b9a0750e72);\n",
              "        \n",
              "&lt;/script&gt;\n",
              "&lt;/html&gt;\" style=\"position:absolute;width:100%;height:100%;left:0;top:0;border:none !important;\" allowfullscreen webkitallowfullscreen mozallowfullscreen></iframe></div></div>"
            ],
            "text/plain": [
              "<folium.folium.Map at 0x27f8c753ca0>"
            ]
          },
          "execution_count": 19,
          "metadata": {},
          "output_type": "execute_result"
        }
      ],
      "source": [
        "import folium \n",
        "my_map = folium.Map(location=[np.mean(data['Latitude (°)']), np.mean(data['Longitude (°)'])], zoom_start=16)\n",
        "\n",
        "#add a markers if you wants\n",
        "#for each in location_list:  \n",
        "#   folium.Marker(each).add_to(my_map)\n",
        "\n",
        "#Draw lines of motion\n",
        "folium.PolyLine(data[['Latitude (°)','Longitude (°)']], color=\"blue\", weight=2.5, opacity=1).add_to(my_map)\n",
        "\n",
        "# Save map\n",
        "my_map.save(\"Ilpo_map.html\")\n",
        "my_map"
      ]
    },
    {
      "cell_type": "code",
      "execution_count": null,
      "metadata": {},
      "outputs": [],
      "source": [
        "np.mean(data['Latitude (°)'])"
      ]
    }
  ],
  "metadata": {
    "colab": {
      "collapsed_sections": [],
      "name": "Google_map_gps.ipynb",
      "provenance": []
    },
    "kernelspec": {
      "display_name": "Python 3",
      "name": "python3"
    },
    "language_info": {
      "codemirror_mode": {
        "name": "ipython",
        "version": 3
      },
      "file_extension": ".py",
      "mimetype": "text/x-python",
      "name": "python",
      "nbconvert_exporter": "python",
      "pygments_lexer": "ipython3",
      "version": "3.10.6"
    }
  },
  "nbformat": 4,
  "nbformat_minor": 0
}
