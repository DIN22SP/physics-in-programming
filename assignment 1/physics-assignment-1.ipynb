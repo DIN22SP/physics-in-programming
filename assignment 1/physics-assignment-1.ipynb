{
 "cells": [
  {
   "cell_type": "code",
   "execution_count": 1,
   "metadata": {},
   "outputs": [
    {
     "name": "stdout",
     "output_type": "stream",
     "text": [
      "['apple', 'banana', 'orange', 'grape']\n",
      "{'name': 'John', 'age': 30, 'city': 'New York'}\n"
     ]
    }
   ],
   "source": [
    "# List example\n",
    "fruits = ['apple', 'banana', 'orange', 'grape']\n",
    "print(fruits)  # Output: ['apple', 'banana', 'orange', 'grape']\n",
    "\n",
    "# Dictionary example\n",
    "person = {'name': 'John', 'age': 30, 'city': 'New York'}\n",
    "print(person)  # Output: {'name': 'John', 'age': 30, 'city': 'New York'}\n"
   ]
  }
 ],
 "metadata": {
  "kernelspec": {
   "display_name": "Python 3",
   "language": "python",
   "name": "python3"
  },
  "language_info": {
   "codemirror_mode": {
    "name": "ipython",
    "version": 3
   },
   "file_extension": ".py",
   "mimetype": "text/x-python",
   "name": "python",
   "nbconvert_exporter": "python",
   "pygments_lexer": "ipython3",
   "version": "3.10.7"
  }
 },
 "nbformat": 4,
 "nbformat_minor": 2
}
